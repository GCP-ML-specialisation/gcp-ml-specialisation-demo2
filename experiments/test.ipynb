{
 "cells": [
  {
   "cell_type": "code",
   "execution_count": 77,
   "metadata": {},
   "outputs": [],
   "source": [
    "import pandas as pd\n",
    "import numpy as np\n",
    "import xgboost as xgb\n",
    "\n",
    "from math import sqrt\n",
    "\n",
    "from sklearn.preprocessing import LabelEncoder\n",
    "from sklearn.metrics import mean_squared_error, mean_absolute_error, r2_score\n",
    "from sklearn.ensemble import RandomForestRegressor\n",
    "from sklearn.model_selection import (\n",
    "        RandomizedSearchCV,\n",
    "        train_test_split,\n",
    "    )\n",
    "\n",
    "from scipy.stats import randint\n",
    "\n",
    "\n",
    "\n",
    "def feature_engineering(df_train: pd.DataFrame, df_test: pd.DataFrame):\n",
    "    # Handle categorical to integer transformation for 'Gender'\n",
    "    gender_mapping = {\"F\": 0, \"M\": 1}\n",
    "    df_train[\"Gender\"] = df_train[\"Gender\"].map(gender_mapping)\n",
    "    df_test[\"Gender\"] = df_test[\"Gender\"].map(gender_mapping)\n",
    "\n",
    "    # Columns to encode\n",
    "    cols = [\"Age\", \"City_Category\", \"Stay_In_Current_City_Years\"]\n",
    "\n",
    "    # Combine train and test for consistent encoding\n",
    "    combined_df = pd.concat([df_train[cols], df_test[cols]], axis=0)\n",
    "\n",
    "    # Initialize the LabelEncoder\n",
    "    le = LabelEncoder()\n",
    "\n",
    "    # Apply LabelEncoder to each column and transform back to DataFrame\n",
    "    for col in cols:\n",
    "        combined_df[col] = le.fit_transform(combined_df[col])\n",
    "\n",
    "    # Split the combined data back into train and test sets\n",
    "    df_train[cols] = combined_df.iloc[: len(df_train), :]\n",
    "    df_test[cols] = combined_df.iloc[len(df_train) :, :]\n",
    "\n",
    "    df_train.reset_index(drop=True, inplace=True)\n",
    "    df_train[\"Purchase\"] = np.log1p(df_train[\"Purchase\"])\n",
    "\n",
    "    return df_train, df_test\n",
    "\n",
    "\n",
    "def basic_preprocessing(df_train: pd.DataFrame, df_test: pd.DataFrame):\n",
    "    df_train[\"Stay_In_Current_City_Years\"] = df_train[\n",
    "        \"Stay_In_Current_City_Years\"\n",
    "    ].str.replace(\"+\", \"\")\n",
    "    df_train[\"Stay_In_Current_City_Years\"] = df_train[\n",
    "        \"Stay_In_Current_City_Years\"\n",
    "    ].astype(int)\n",
    "\n",
    "    df_test[\"Stay_In_Current_City_Years\"] = df_test[\n",
    "        \"Stay_In_Current_City_Years\"\n",
    "    ].str.replace(\"+\", \"\")\n",
    "    df_test[\"Stay_In_Current_City_Years\"] = df_test[\n",
    "        \"Stay_In_Current_City_Years\"\n",
    "    ].astype(int)\n",
    "\n",
    "    ## Dropping User_id and Product_ID\n",
    "    df_train = df_train.drop(\"User_ID\", axis=1)\n",
    "    df_test = df_test.drop(\"User_ID\", axis=1)\n",
    "    df_train = df_train.drop(\"Product_ID\", axis=1)\n",
    "    df_test = df_test.drop(\"Product_ID\", axis=1)\n",
    "\n",
    "    df_train = df_train.drop(\"Product_Category_3\", axis=1)\n",
    "    df_test = df_test.drop(\"Product_Category_3\", axis=1)\n",
    "\n",
    "    ## Imputing missing values with mode\n",
    "    df_train[\"Product_Category_2\"].mode()[0]\n",
    "    df_train[\"Product_Category_2\"] = df_train[\"Product_Category_2\"].fillna(\n",
    "        df_train[\"Product_Category_2\"].mode()[0]\n",
    "    )\n",
    "    df_train.isnull().sum()\n",
    "\n",
    "    df_test[\"Product_Category_2\"].mode()[0]\n",
    "    df_test[\"Product_Category_2\"] = df_test[\"Product_Category_2\"].fillna(\n",
    "        df_test[\"Product_Category_2\"].mode()[0]\n",
    "    )\n",
    "    df_test.isnull().sum()\n",
    "\n",
    "    return df_train, df_test\n"
   ]
  },
  {
   "cell_type": "code",
   "execution_count": 14,
   "metadata": {},
   "outputs": [],
   "source": [
    "df_train = pd.read_csv(r'C:\\Users\\CAMNG3\\Downloads\\train.csv')\n",
    "df_test = pd.read_csv(r'C:\\Users\\CAMNG3\\Downloads\\test.csv')\n",
    "\n",
    "df_train, df_test = basic_preprocessing(df_train, df_test)\n",
    "df_train, df_test = feature_engineering(df_train, df_test)\n",
    "\n",
    "df_train.to_csv(r\".\\data\\pre_processed_train.csv\", index=False)\n",
    "df_test.to_csv(r\".\\data\\pre_processed_test.csv\", index=False)\n",
    "\n"
   ]
  },
  {
   "cell_type": "code",
   "execution_count": 15,
   "metadata": {},
   "outputs": [],
   "source": [
    "X=df_train.drop('Purchase',axis=1)\n",
    "y=df_train['Purchase']\n",
    "\n",
    "X_train, X_test, y_train, y_test = train_test_split(X, y, test_size=0.3, random_state=42)\n"
   ]
  },
  {
   "cell_type": "markdown",
   "metadata": {},
   "source": [
    "# XGB Regressor"
   ]
  },
  {
   "cell_type": "code",
   "execution_count": 81,
   "metadata": {},
   "outputs": [
    {
     "name": "stdout",
     "output_type": "stream",
     "text": [
      "XGB Test set MAE 0.2859335382173821\n",
      "XGB Test set MSE 0.15213890327265409\n",
      "XGB Test R2_Score 0.7206602250216348\n",
      "XGB Test RMSE of XGBoost Model is  0.3900498728017407\n",
      "----------------------------------\n",
      "Random Forest Test set MAE 0.28264333427329164\n",
      "Random Forest Test set MSE 0.1463590336157364\n",
      "Random Forest Test R2_Score 0.7312725500393469\n",
      "Random Forest Test RMSE of Regressor Model is  0.3825689919684244\n"
     ]
    }
   ],
   "source": [
    "xgb_reg = xgb.XGBRegressor(learning_rate=0.5, max_depth=15, seed=0)\n",
    "\n",
    "xgb_reg.fit(X_train, y_train)\n",
    "\n",
    "xgb_y_pred = xgb_reg.predict(X_train)\n",
    "print('Training set MAE',mean_absolute_error(y_train, xgb_y_pred))\n",
    "print('Training set MSE',mean_squared_error(y_train, xgb_y_pred))\n",
    "print('Training R2_Score',r2_score(y_train, xgb_y_pred))\n",
    "print(\"Training RMSE of XGBoost Model is \",sqrt(mean_squared_error(y_train, xgb_y_pred)))\n",
    "\n",
    "print(\"----------------------------------\")\n",
    "\n",
    "xgb_y_pred = xgb_reg.predict(X_test)\n",
    "print('Test set MAE',mean_absolute_error(y_test, xgb_y_pred))\n",
    "print('Test set MSE',mean_squared_error(y_test, xgb_y_pred))\n",
    "print('Test R2_Score',r2_score(y_test, xgb_y_pred))\n",
    "from math import sqrt\n",
    "print(\"Test RMSE of XGBoost Model is \",sqrt(mean_squared_error(y_test, xgb_y_pred)))"
   ]
  },
  {
   "cell_type": "markdown",
   "metadata": {},
   "source": [
    "# RandomForest Regressor"
   ]
  },
  {
   "cell_type": "code",
   "execution_count": 75,
   "metadata": {},
   "outputs": [
    {
     "name": "stdout",
     "output_type": "stream",
     "text": [
      "Training set MAE 0.23634514883449112\n",
      "Training set MSE 0.10665119059453569\n",
      "Training R2_Score 0.8051570567953704\n",
      "Training RMSE of Regressor Model is  0.32657493871167714\n",
      "----------------------------------\n",
      "Test set MAE 0.28264333427329164\n",
      "Test set MSE 0.1463590336157364\n",
      "Test R2_Score 0.7312725500393469\n",
      "Test RMSE of Regressor Model is  0.3825689919684244\n"
     ]
    }
   ],
   "source": [
    "# Fitting Random Forest Regression to the dataset\n",
    "regressor = RandomForestRegressor(n_estimators=10, random_state=0)\n",
    " \n",
    "# Fit the regressor with x and y data\n",
    "regressor.fit(X_train, y_train)\n",
    "\n",
    "# Make predictions\n",
    "regr_y_pred = regressor.predict(X_train)\n",
    "\n",
    "print('Training set MAE',mean_absolute_error(y_train, regr_y_pred))\n",
    "print('Training set MSE',mean_squared_error(y_train, regr_y_pred))\n",
    "print('Training R2_Score',r2_score(y_train, regr_y_pred))\n",
    "print(\"Training RMSE of Regressor Model is \",sqrt(mean_squared_error(y_train, regr_y_pred)))\n",
    "\n",
    "print(\"----------------------------------\")\n",
    "\n",
    "regr_y_pred = regressor.predict(X_test)\n",
    "print('Test set MAE',mean_absolute_error(y_test, regr_y_pred))\n",
    "print('Test set MSE',mean_squared_error(y_test, regr_y_pred))\n",
    "print('Test R2_Score',r2_score(y_test, regr_y_pred))\n",
    "print(\"Test RMSE of Regressor Model is \",sqrt(mean_squared_error(y_test, regr_y_pred)))\n",
    "\n"
   ]
  },
  {
   "cell_type": "markdown",
   "metadata": {},
   "source": [
    "# HyperParameter tuning"
   ]
  },
  {
   "cell_type": "code",
   "execution_count": 83,
   "metadata": {},
   "outputs": [
    {
     "name": "stdout",
     "output_type": "stream",
     "text": [
      "Test set MAE 0.2814727951442279\n",
      "Test set MSE 0.14050631475177378\n",
      "Test R2_Score 0.7420186323056361\n",
      "Test RMSE of Regressor Model is  0.3748417195987845\n"
     ]
    }
   ],
   "source": [
    "regressor = RandomForestRegressor(n_estimators=10, random_state=0)\n",
    "\n",
    "param_dist = {\n",
    "    \"max_depth\": randint(5, 15),  # Maximum depth of the tree\n",
    "    \"n_estimators\": randint(9, 13),\n",
    "    \"min_samples_leaf\": randint(1, 3),\n",
    "}\n",
    "\n",
    "param_comb = 5\n",
    "\n",
    "random_search = RandomizedSearchCV(\n",
    "    regressor,\n",
    "    param_distributions=param_dist,\n",
    "    n_iter=param_comb,\n",
    "    scoring=\"neg_root_mean_squared_error\",\n",
    "    cv=10,\n",
    "    verbose=0,\n",
    ")\n",
    "\n",
    "random_search.fit(X_train, y_train)\n",
    "regressor_best = random_search.best_estimator_\n",
    "\n",
    "regr_y_pred = regressor_best.predict(X_test)\n",
    "print('Test set MAE',mean_absolute_error(y_test, regr_y_pred))\n",
    "print('Test set MSE',mean_squared_error(y_test, regr_y_pred))\n",
    "print('Test R2_Score',r2_score(y_test, regr_y_pred))\n",
    "print(\"Test RMSE of Regressor Model is \",sqrt(mean_squared_error(y_test, regr_y_pred)))"
   ]
  },
  {
   "cell_type": "markdown",
   "metadata": {},
   "source": [
    "# Call the endpoint"
   ]
  },
  {
   "cell_type": "code",
   "execution_count": 97,
   "metadata": {},
   "outputs": [],
   "source": [
    "from google.cloud import aiplatform \n",
    "\n",
    "PROJECT_NUMBER='121050757542'\n",
    "ENDPOINT_ID='9119259280820666368'\n",
    "\n",
    "endpoint_name = f\"projects/{PROJECT_NUMBER}/locations/us-central1/endpoints/{ENDPOINT_ID}\"\n",
    "endpoint = aiplatform.Endpoint(endpoint_name=endpoint_name)\n"
   ]
  },
  {
   "cell_type": "code",
   "execution_count": 130,
   "metadata": {},
   "outputs": [
    {
     "ename": "InternalServerError",
     "evalue": "500 {\"detail\":\"The following exception has occurred: TypeError. Arguments: (\\\"Not supported type for data.<class 'xgboost.core.DMatrix'>\\\",).\"}",
     "output_type": "error",
     "traceback": [
      "\u001b[1;31m---------------------------------------------------------------------------\u001b[0m",
      "\u001b[1;31m_InactiveRpcError\u001b[0m                         Traceback (most recent call last)",
      "File \u001b[1;32mc:\\Users\\CAMNG3\\Desktop\\gcp-ml-specialisation-demo2\\env\\Lib\\site-packages\\google\\api_core\\grpc_helpers.py:76\u001b[0m, in \u001b[0;36m_wrap_unary_errors.<locals>.error_remapped_callable\u001b[1;34m(*args, **kwargs)\u001b[0m\n\u001b[0;32m     75\u001b[0m \u001b[38;5;28;01mtry\u001b[39;00m:\n\u001b[1;32m---> 76\u001b[0m     \u001b[38;5;28;01mreturn\u001b[39;00m \u001b[43mcallable_\u001b[49m\u001b[43m(\u001b[49m\u001b[38;5;241;43m*\u001b[39;49m\u001b[43margs\u001b[49m\u001b[43m,\u001b[49m\u001b[43m \u001b[49m\u001b[38;5;241;43m*\u001b[39;49m\u001b[38;5;241;43m*\u001b[39;49m\u001b[43mkwargs\u001b[49m\u001b[43m)\u001b[49m\n\u001b[0;32m     77\u001b[0m \u001b[38;5;28;01mexcept\u001b[39;00m grpc\u001b[38;5;241m.\u001b[39mRpcError \u001b[38;5;28;01mas\u001b[39;00m exc:\n",
      "File \u001b[1;32mc:\\Users\\CAMNG3\\Desktop\\gcp-ml-specialisation-demo2\\env\\Lib\\site-packages\\grpc\\_channel.py:1181\u001b[0m, in \u001b[0;36m_UnaryUnaryMultiCallable.__call__\u001b[1;34m(self, request, timeout, metadata, credentials, wait_for_ready, compression)\u001b[0m\n\u001b[0;32m   1175\u001b[0m (\n\u001b[0;32m   1176\u001b[0m     state,\n\u001b[0;32m   1177\u001b[0m     call,\n\u001b[0;32m   1178\u001b[0m ) \u001b[38;5;241m=\u001b[39m \u001b[38;5;28mself\u001b[39m\u001b[38;5;241m.\u001b[39m_blocking(\n\u001b[0;32m   1179\u001b[0m     request, timeout, metadata, credentials, wait_for_ready, compression\n\u001b[0;32m   1180\u001b[0m )\n\u001b[1;32m-> 1181\u001b[0m \u001b[38;5;28;01mreturn\u001b[39;00m \u001b[43m_end_unary_response_blocking\u001b[49m\u001b[43m(\u001b[49m\u001b[43mstate\u001b[49m\u001b[43m,\u001b[49m\u001b[43m \u001b[49m\u001b[43mcall\u001b[49m\u001b[43m,\u001b[49m\u001b[43m \u001b[49m\u001b[38;5;28;43;01mFalse\u001b[39;49;00m\u001b[43m,\u001b[49m\u001b[43m \u001b[49m\u001b[38;5;28;43;01mNone\u001b[39;49;00m\u001b[43m)\u001b[49m\n",
      "File \u001b[1;32mc:\\Users\\CAMNG3\\Desktop\\gcp-ml-specialisation-demo2\\env\\Lib\\site-packages\\grpc\\_channel.py:1006\u001b[0m, in \u001b[0;36m_end_unary_response_blocking\u001b[1;34m(state, call, with_call, deadline)\u001b[0m\n\u001b[0;32m   1005\u001b[0m \u001b[38;5;28;01melse\u001b[39;00m:\n\u001b[1;32m-> 1006\u001b[0m     \u001b[38;5;28;01mraise\u001b[39;00m _InactiveRpcError(state)\n",
      "\u001b[1;31m_InactiveRpcError\u001b[0m: <_InactiveRpcError of RPC that terminated with:\n\tstatus = StatusCode.INTERNAL\n\tdetails = \"{\"detail\":\"The following exception has occurred: TypeError. Arguments: (\\\"Not supported type for data.<class 'xgboost.core.DMatrix'>\\\",).\"}\"\n\tdebug_error_string = \"UNKNOWN:Error received from peer ipv4:172.217.16.234:443 {grpc_message:\"{\\\"detail\\\":\\\"The following exception has occurred: TypeError. Arguments: (\\\\\\\"Not supported type for data.<class \\'xgboost.core.DMatrix\\'>\\\\\\\",).\\\"}\", grpc_status:13, created_time:\"2024-07-25T18:06:32.8866498+00:00\"}\"\n>",
      "\nThe above exception was the direct cause of the following exception:\n",
      "\u001b[1;31mInternalServerError\u001b[0m                       Traceback (most recent call last)",
      "Cell \u001b[1;32mIn[130], line 1\u001b[0m\n\u001b[1;32m----> 1\u001b[0m \u001b[43mendpoint\u001b[49m\u001b[38;5;241;43m.\u001b[39;49m\u001b[43mpredict\u001b[49m\u001b[43m(\u001b[49m\u001b[43minstances\u001b[49m\u001b[38;5;241;43m=\u001b[39;49m\u001b[43mxgb\u001b[49m\u001b[38;5;241;43m.\u001b[39;49m\u001b[43mDMatrix\u001b[49m\u001b[43m(\u001b[49m\u001b[43m[\u001b[49m\u001b[43m[\u001b[49m\u001b[38;5;241;43m1\u001b[39;49m\u001b[43m,\u001b[49m\u001b[38;5;241;43m2\u001b[39;49m\u001b[43m,\u001b[49m\u001b[38;5;241;43m3\u001b[39;49m\u001b[43m,\u001b[49m\u001b[38;5;241;43m4\u001b[39;49m\u001b[43m,\u001b[49m\u001b[38;5;241;43m5\u001b[39;49m\u001b[43m,\u001b[49m\u001b[38;5;241;43m6\u001b[39;49m\u001b[43m,\u001b[49m\u001b[38;5;241;43m87\u001b[39;49m\u001b[43m,\u001b[49m\u001b[38;5;241;43m9\u001b[39;49m\u001b[43m]\u001b[49m\u001b[43m]\u001b[49m\u001b[43m)\u001b[49m\u001b[38;5;241;43m.\u001b[39;49m\u001b[43mget_data\u001b[49m\u001b[43m(\u001b[49m\u001b[43m)\u001b[49m\u001b[38;5;241;43m.\u001b[39;49m\u001b[43mA\u001b[49m\u001b[38;5;241;43m.\u001b[39;49m\u001b[43mtolist\u001b[49m\u001b[43m(\u001b[49m\u001b[43m)\u001b[49m\u001b[43m)\u001b[49m\n",
      "File \u001b[1;32mc:\\Users\\CAMNG3\\Desktop\\gcp-ml-specialisation-demo2\\env\\Lib\\site-packages\\google\\cloud\\aiplatform\\models.py:1614\u001b[0m, in \u001b[0;36mEndpoint.predict\u001b[1;34m(self, instances, parameters, timeout, use_raw_predict)\u001b[0m\n\u001b[0;32m   1600\u001b[0m     \u001b[38;5;28;01mreturn\u001b[39;00m Prediction(\n\u001b[0;32m   1601\u001b[0m         predictions\u001b[38;5;241m=\u001b[39mjson_response[\u001b[38;5;124m\"\u001b[39m\u001b[38;5;124mpredictions\u001b[39m\u001b[38;5;124m\"\u001b[39m],\n\u001b[0;32m   1602\u001b[0m         metadata\u001b[38;5;241m=\u001b[39mjson_response\u001b[38;5;241m.\u001b[39mget(\u001b[38;5;124m\"\u001b[39m\u001b[38;5;124mmetadata\u001b[39m\u001b[38;5;124m\"\u001b[39m),\n\u001b[1;32m   (...)\u001b[0m\n\u001b[0;32m   1611\u001b[0m         ),\n\u001b[0;32m   1612\u001b[0m     )\n\u001b[0;32m   1613\u001b[0m \u001b[38;5;28;01melse\u001b[39;00m:\n\u001b[1;32m-> 1614\u001b[0m     prediction_response \u001b[38;5;241m=\u001b[39m \u001b[38;5;28;43mself\u001b[39;49m\u001b[38;5;241;43m.\u001b[39;49m\u001b[43m_prediction_client\u001b[49m\u001b[38;5;241;43m.\u001b[39;49m\u001b[43mpredict\u001b[49m\u001b[43m(\u001b[49m\n\u001b[0;32m   1615\u001b[0m \u001b[43m        \u001b[49m\u001b[43mendpoint\u001b[49m\u001b[38;5;241;43m=\u001b[39;49m\u001b[38;5;28;43mself\u001b[39;49m\u001b[38;5;241;43m.\u001b[39;49m\u001b[43m_gca_resource\u001b[49m\u001b[38;5;241;43m.\u001b[39;49m\u001b[43mname\u001b[49m\u001b[43m,\u001b[49m\n\u001b[0;32m   1616\u001b[0m \u001b[43m        \u001b[49m\u001b[43minstances\u001b[49m\u001b[38;5;241;43m=\u001b[39;49m\u001b[43minstances\u001b[49m\u001b[43m,\u001b[49m\n\u001b[0;32m   1617\u001b[0m \u001b[43m        \u001b[49m\u001b[43mparameters\u001b[49m\u001b[38;5;241;43m=\u001b[39;49m\u001b[43mparameters\u001b[49m\u001b[43m,\u001b[49m\n\u001b[0;32m   1618\u001b[0m \u001b[43m        \u001b[49m\u001b[43mtimeout\u001b[49m\u001b[38;5;241;43m=\u001b[39;49m\u001b[43mtimeout\u001b[49m\u001b[43m,\u001b[49m\n\u001b[0;32m   1619\u001b[0m \u001b[43m    \u001b[49m\u001b[43m)\u001b[49m\n\u001b[0;32m   1620\u001b[0m     \u001b[38;5;28;01mif\u001b[39;00m prediction_response\u001b[38;5;241m.\u001b[39m_pb\u001b[38;5;241m.\u001b[39mmetadata:\n\u001b[0;32m   1621\u001b[0m         metadata \u001b[38;5;241m=\u001b[39m json_format\u001b[38;5;241m.\u001b[39mMessageToDict(prediction_response\u001b[38;5;241m.\u001b[39m_pb\u001b[38;5;241m.\u001b[39mmetadata)\n",
      "File \u001b[1;32mc:\\Users\\CAMNG3\\Desktop\\gcp-ml-specialisation-demo2\\env\\Lib\\site-packages\\google\\cloud\\aiplatform_v1\\services\\prediction_service\\client.py:851\u001b[0m, in \u001b[0;36mPredictionServiceClient.predict\u001b[1;34m(self, request, endpoint, instances, parameters, retry, timeout, metadata)\u001b[0m\n\u001b[0;32m    848\u001b[0m \u001b[38;5;28mself\u001b[39m\u001b[38;5;241m.\u001b[39m_validate_universe_domain()\n\u001b[0;32m    850\u001b[0m \u001b[38;5;66;03m# Send the request.\u001b[39;00m\n\u001b[1;32m--> 851\u001b[0m response \u001b[38;5;241m=\u001b[39m \u001b[43mrpc\u001b[49m\u001b[43m(\u001b[49m\n\u001b[0;32m    852\u001b[0m \u001b[43m    \u001b[49m\u001b[43mrequest\u001b[49m\u001b[43m,\u001b[49m\n\u001b[0;32m    853\u001b[0m \u001b[43m    \u001b[49m\u001b[43mretry\u001b[49m\u001b[38;5;241;43m=\u001b[39;49m\u001b[43mretry\u001b[49m\u001b[43m,\u001b[49m\n\u001b[0;32m    854\u001b[0m \u001b[43m    \u001b[49m\u001b[43mtimeout\u001b[49m\u001b[38;5;241;43m=\u001b[39;49m\u001b[43mtimeout\u001b[49m\u001b[43m,\u001b[49m\n\u001b[0;32m    855\u001b[0m \u001b[43m    \u001b[49m\u001b[43mmetadata\u001b[49m\u001b[38;5;241;43m=\u001b[39;49m\u001b[43mmetadata\u001b[49m\u001b[43m,\u001b[49m\n\u001b[0;32m    856\u001b[0m \u001b[43m\u001b[49m\u001b[43m)\u001b[49m\n\u001b[0;32m    858\u001b[0m \u001b[38;5;66;03m# Done; return the response.\u001b[39;00m\n\u001b[0;32m    859\u001b[0m \u001b[38;5;28;01mreturn\u001b[39;00m response\n",
      "File \u001b[1;32mc:\\Users\\CAMNG3\\Desktop\\gcp-ml-specialisation-demo2\\env\\Lib\\site-packages\\google\\api_core\\gapic_v1\\method.py:131\u001b[0m, in \u001b[0;36m_GapicCallable.__call__\u001b[1;34m(self, timeout, retry, compression, *args, **kwargs)\u001b[0m\n\u001b[0;32m    128\u001b[0m \u001b[38;5;28;01mif\u001b[39;00m \u001b[38;5;28mself\u001b[39m\u001b[38;5;241m.\u001b[39m_compression \u001b[38;5;129;01mis\u001b[39;00m \u001b[38;5;129;01mnot\u001b[39;00m \u001b[38;5;28;01mNone\u001b[39;00m:\n\u001b[0;32m    129\u001b[0m     kwargs[\u001b[38;5;124m\"\u001b[39m\u001b[38;5;124mcompression\u001b[39m\u001b[38;5;124m\"\u001b[39m] \u001b[38;5;241m=\u001b[39m compression\n\u001b[1;32m--> 131\u001b[0m \u001b[38;5;28;01mreturn\u001b[39;00m \u001b[43mwrapped_func\u001b[49m\u001b[43m(\u001b[49m\u001b[38;5;241;43m*\u001b[39;49m\u001b[43margs\u001b[49m\u001b[43m,\u001b[49m\u001b[43m \u001b[49m\u001b[38;5;241;43m*\u001b[39;49m\u001b[38;5;241;43m*\u001b[39;49m\u001b[43mkwargs\u001b[49m\u001b[43m)\u001b[49m\n",
      "File \u001b[1;32mc:\\Users\\CAMNG3\\Desktop\\gcp-ml-specialisation-demo2\\env\\Lib\\site-packages\\google\\api_core\\grpc_helpers.py:78\u001b[0m, in \u001b[0;36m_wrap_unary_errors.<locals>.error_remapped_callable\u001b[1;34m(*args, **kwargs)\u001b[0m\n\u001b[0;32m     76\u001b[0m     \u001b[38;5;28;01mreturn\u001b[39;00m callable_(\u001b[38;5;241m*\u001b[39margs, \u001b[38;5;241m*\u001b[39m\u001b[38;5;241m*\u001b[39mkwargs)\n\u001b[0;32m     77\u001b[0m \u001b[38;5;28;01mexcept\u001b[39;00m grpc\u001b[38;5;241m.\u001b[39mRpcError \u001b[38;5;28;01mas\u001b[39;00m exc:\n\u001b[1;32m---> 78\u001b[0m     \u001b[38;5;28;01mraise\u001b[39;00m exceptions\u001b[38;5;241m.\u001b[39mfrom_grpc_error(exc) \u001b[38;5;28;01mfrom\u001b[39;00m \u001b[38;5;21;01mexc\u001b[39;00m\n",
      "\u001b[1;31mInternalServerError\u001b[0m: 500 {\"detail\":\"The following exception has occurred: TypeError. Arguments: (\\\"Not supported type for data.<class 'xgboost.core.DMatrix'>\\\",).\"}"
     ]
    }
   ],
   "source": [
    "\n",
    "endpoint.predict(instances=xgb.DMatrix([[1,2,3,4,5,6,87,9]]).get_data().A.tolist())"
   ]
  },
  {
   "cell_type": "code",
   "execution_count": null,
   "metadata": {},
   "outputs": [],
   "source": []
  }
 ],
 "metadata": {
  "kernelspec": {
   "display_name": "env",
   "language": "python",
   "name": "python3"
  },
  "language_info": {
   "codemirror_mode": {
    "name": "ipython",
    "version": 3
   },
   "file_extension": ".py",
   "mimetype": "text/x-python",
   "name": "python",
   "nbconvert_exporter": "python",
   "pygments_lexer": "ipython3",
   "version": "3.11.9"
  }
 },
 "nbformat": 4,
 "nbformat_minor": 2
}
