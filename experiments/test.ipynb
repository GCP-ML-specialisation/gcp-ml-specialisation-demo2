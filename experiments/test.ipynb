{
 "cells": [
  {
   "cell_type": "code",
   "execution_count": 2,
   "metadata": {},
   "outputs": [],
   "source": [
    "import pandas as pd\n",
    "import numpy as np\n",
    "from sklearn.preprocessing import LabelEncoder\n",
    "\n",
    "\n",
    "def feature_engineering(df_train: pd.DataFrame, df_test: pd.DataFrame):\n",
    "    # Handle categorical to integer transformation for 'Gender'\n",
    "    gender_mapping = {\"F\": 0, \"M\": 1}\n",
    "    df_train[\"Gender\"] = df_train[\"Gender\"].map(gender_mapping)\n",
    "    df_test[\"Gender\"] = df_test[\"Gender\"].map(gender_mapping)\n",
    "\n",
    "    # Columns to encode\n",
    "    cols = [\"Age\", \"City_Category\", \"Stay_In_Current_City_Years\"]\n",
    "\n",
    "    # Combine train and test for consistent encoding\n",
    "    combined_df = pd.concat([df_train[cols], df_test[cols]], axis=0)\n",
    "\n",
    "    # Initialize the LabelEncoder\n",
    "    le = LabelEncoder()\n",
    "\n",
    "    # Apply LabelEncoder to each column and transform back to DataFrame\n",
    "    for col in cols:\n",
    "        combined_df[col] = le.fit_transform(combined_df[col])\n",
    "\n",
    "    # Split the combined data back into train and test sets\n",
    "    df_train[cols] = combined_df.iloc[: len(df_train), :]\n",
    "    df_test[cols] = combined_df.iloc[len(df_train) :, :]\n",
    "\n",
    "    df_train = df_train[df_train.Product_Category_1 > 2.5]\n",
    "    df_train.reset_index(drop=True, inplace=True)\n",
    "    df_train[\"Purchase\"] = np.log1p(df_train[\"Purchase\"])\n",
    "\n",
    "    return df_train, df_test\n",
    "\n",
    "\n",
    "def basic_preprocessing(df_train: pd.DataFrame, df_test: pd.DataFrame):\n",
    "    df_train[\"Stay_In_Current_City_Years\"] = df_train[\n",
    "        \"Stay_In_Current_City_Years\"\n",
    "    ].str.replace(\"+\", \"\")\n",
    "    df_train[\"Stay_In_Current_City_Years\"] = df_train[\n",
    "        \"Stay_In_Current_City_Years\"\n",
    "    ].astype(int)\n",
    "\n",
    "    df_test[\"Stay_In_Current_City_Years\"] = df_test[\n",
    "        \"Stay_In_Current_City_Years\"\n",
    "    ].str.replace(\"+\", \"\")\n",
    "    df_test[\"Stay_In_Current_City_Years\"] = df_test[\n",
    "        \"Stay_In_Current_City_Years\"\n",
    "    ].astype(int)\n",
    "\n",
    "    ## Dropping User_id and Product_ID\n",
    "    df_train = df_train.drop(\"User_ID\", axis=1)\n",
    "    df_test = df_test.drop(\"User_ID\", axis=1)\n",
    "    df_train = df_train.drop(\"Product_ID\", axis=1)\n",
    "    df_test = df_test.drop(\"Product_ID\", axis=1)\n",
    "\n",
    "    df_train = df_train.drop(\"Product_Category_3\", axis=1)\n",
    "    df_test = df_test.drop(\"Product_Category_3\", axis=1)\n",
    "\n",
    "    ## Imputing missing values with mode\n",
    "    df_train[\"Product_Category_2\"].mode()[0]\n",
    "    df_train[\"Product_Category_2\"] = df_train[\"Product_Category_2\"].fillna(\n",
    "        df_train[\"Product_Category_2\"].mode()[0]\n",
    "    )\n",
    "    df_train.isnull().sum()\n",
    "\n",
    "    df_test[\"Product_Category_2\"].mode()[0]\n",
    "    df_test[\"Product_Category_2\"] = df_test[\"Product_Category_2\"].fillna(\n",
    "        df_test[\"Product_Category_2\"].mode()[0]\n",
    "    )\n",
    "    df_test.isnull().sum()\n",
    "\n",
    "    return df_train, df_test\n"
   ]
  },
  {
   "cell_type": "code",
   "execution_count": 13,
   "metadata": {},
   "outputs": [
    {
     "name": "stderr",
     "output_type": "stream",
     "text": [
      "C:\\Users\\CAMNG3\\AppData\\Local\\Temp\\ipykernel_16616\\2415374811.py:31: SettingWithCopyWarning: \n",
      "A value is trying to be set on a copy of a slice from a DataFrame.\n",
      "Try using .loc[row_indexer,col_indexer] = value instead\n",
      "\n",
      "See the caveats in the documentation: https://pandas.pydata.org/pandas-docs/stable/user_guide/indexing.html#returning-a-view-versus-a-copy\n",
      "  df_train[\"Purchase\"] = np.log1p(df_train[\"Purchase\"])\n"
     ]
    }
   ],
   "source": [
    "df_train = pd.read_csv(r'C:\\Users\\CAMNG3\\Downloads\\Data\\raw_data_train.csv')\n",
    "df_test = pd.read_csv(r'C:\\Users\\CAMNG3\\Downloads\\Data\\raw_data_test.csv')\n",
    "\n",
    "df_train, df_test = basic_preprocessing(df_train, df_test)\n",
    "\n",
    "df_train, df_test = feature_engineering(df_train, df_test)\n"
   ]
  },
  {
   "cell_type": "code",
   "execution_count": 14,
   "metadata": {},
   "outputs": [
    {
     "name": "stdout",
     "output_type": "stream",
     "text": [
      "MAE 0.26984723669053534\n",
      "MSE 0.13205568902643186\n",
      "R2_Score 0.7656962333878472\n",
      "RMSE of XGBoost Model is  0.3633946739103806\n"
     ]
    }
   ],
   "source": [
    "X=df_train.drop('Purchase',axis=1)\n",
    "y=df_train['Purchase']\n",
    "\n",
    "from sklearn.model_selection import train_test_split\n",
    "from sklearn.metrics import mean_squared_error, mean_absolute_error, r2_score\n",
    "\n",
    "X_train, X_test, y_train, y_test = train_test_split(X, y, test_size=0.3, random_state=42)\n",
    "\n",
    "from xgboost.sklearn import XGBRegressor\n",
    "xgb_reg = XGBRegressor(learning_rate=1.0, max_depth=6, min_child_weight=40, seed=0)\n",
    "\n",
    "xgb_reg.fit(X_train, y_train)\n",
    "\n",
    "xgb_y_pred = xgb_reg.predict(X_test)\n",
    "print('MAE',mean_absolute_error(y_test, xgb_y_pred))\n",
    "print('MSE',mean_squared_error(y_test, xgb_y_pred))\n",
    "print('R2_Score',r2_score(y_test, xgb_y_pred))\n",
    "from math import sqrt\n",
    "print(\"RMSE of XGBoost Model is \",sqrt(mean_squared_error(y_test, xgb_y_pred)))"
   ]
  },
  {
   "cell_type": "code",
   "execution_count": null,
   "metadata": {},
   "outputs": [],
   "source": []
  }
 ],
 "metadata": {
  "kernelspec": {
   "display_name": "env",
   "language": "python",
   "name": "python3"
  },
  "language_info": {
   "codemirror_mode": {
    "name": "ipython",
    "version": 3
   },
   "file_extension": ".py",
   "mimetype": "text/x-python",
   "name": "python",
   "nbconvert_exporter": "python",
   "pygments_lexer": "ipython3",
   "version": "3.11.0"
  }
 },
 "nbformat": 4,
 "nbformat_minor": 2
}
