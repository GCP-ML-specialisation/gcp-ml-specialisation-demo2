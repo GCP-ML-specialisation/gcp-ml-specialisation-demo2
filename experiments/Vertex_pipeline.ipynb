{
 "cells": [
  {
   "cell_type": "markdown",
   "metadata": {},
   "source": [
    "Import libraries"
   ]
  },
  {
   "cell_type": "code",
   "execution_count": 18,
   "metadata": {},
   "outputs": [],
   "source": [
    "from typing import NamedTuple\n",
    "import pandas as pd \n",
    "import os \n",
    "from sklearn.ensemble import RandomForestRegressor\n",
    "from matplotlib import pyplot as plt\n",
    "%matplotlib inline\n",
    "\n",
    "\n",
    "import google.cloud.aiplatform as aip\n",
    "from google.cloud import storage  # noqa: F401\n",
    "\n",
    "from kfp import dsl\n",
    "from kfp.v2 import compiler\n",
    "from kfp.v2.dsl import (component,\n",
    "                        Dataset,\n",
    "                        Input,\n",
    "                        Model,\n",
    "                        Output,\n",
    "                        Metrics,\n",
    "                        ClassificationMetrics, \n",
    "                        OutputPath,\n",
    "                        InputPath)\n",
    "\n",
    "from sklearn.preprocessing import LabelEncoder\n",
    "from sklearn.model_selection import train_test_split\n",
    "\n",
    "from scipy.stats import randint\n",
    "\n",
    "import numpy as np\n",
    "from math import sqrt\n",
    "\n",
    "from sklearn.model_selection import (\n",
    "        RandomizedSearchCV,\n",
    "    )\n",
    "\n",
    "from sklearn.metrics import mean_squared_error, mean_absolute_error, r2_score\n"
   ]
  },
  {
   "cell_type": "markdown",
   "metadata": {},
   "source": [
    "# Preprocessing"
   ]
  },
  {
   "cell_type": "code",
   "execution_count": 26,
   "metadata": {},
   "outputs": [],
   "source": [
    "df_train_uri = \"\".join([os.getenv(\"BUCKET_URI\"), \"raw_data/\", \"train.csv\"])\n",
    "\n",
    "df_train = pd.read_csv(df_train_uri)\n",
    "\n",
    "df_train[\"Stay_In_Current_City_Years\"] = df_train[\n",
    "    \"Stay_In_Current_City_Years\"\n",
    "].str.replace(\"+\", \"\")\n",
    "df_train[\"Stay_In_Current_City_Years\"] = df_train[\n",
    "    \"Stay_In_Current_City_Years\"\n",
    "].astype(int)\n",
    "\n",
    "## Dropping User_id and Product_ID\n",
    "df_train = df_train.drop(\"User_ID\", axis=1)\n",
    "df_train = df_train.drop(\"Product_ID\", axis=1)\n",
    "df_train = df_train.drop(\"Product_Category_3\", axis=1)\n",
    "\n",
    "## Imputing missing values with mode\n",
    "df_train[\"Product_Category_2\"].mode()[0]\n",
    "df_train[\"Product_Category_2\"] = df_train[\"Product_Category_2\"].fillna(\n",
    "    df_train[\"Product_Category_2\"].mode()[0]\n",
    ")\n"
   ]
  },
  {
   "cell_type": "code",
   "execution_count": 27,
   "metadata": {},
   "outputs": [
    {
     "data": {
      "text/plain": [
       "Occupation\n",
       "4     72308\n",
       "0     69638\n",
       "7     59133\n",
       "1     47426\n",
       "17    40043\n",
       "20    33562\n",
       "12    31179\n",
       "14    27309\n",
       "2     26588\n",
       "16    25371\n",
       "6     20355\n",
       "3     17650\n",
       "10    12930\n",
       "5     12177\n",
       "15    12165\n",
       "11    11586\n",
       "19     8461\n",
       "13     7728\n",
       "18     6622\n",
       "9      6291\n",
       "8      1546\n",
       "Name: count, dtype: int64"
      ]
     },
     "execution_count": 27,
     "metadata": {},
     "output_type": "execute_result"
    }
   ],
   "source": [
    "df_train[\"Occupation\"].value_counts()"
   ]
  },
  {
   "cell_type": "markdown",
   "metadata": {},
   "source": [
    "# Data Transformation"
   ]
  },
  {
   "cell_type": "code",
   "execution_count": 5,
   "metadata": {},
   "outputs": [
    {
     "name": "stderr",
     "output_type": "stream",
     "text": [
      "C:\\Users\\CAMNG3\\AppData\\Local\\Temp\\ipykernel_14492\\1339366489.py:15: SettingWithCopyWarning: \n",
      "A value is trying to be set on a copy of a slice from a DataFrame.\n",
      "Try using .loc[row_indexer,col_indexer] = value instead\n",
      "\n",
      "See the caveats in the documentation: https://pandas.pydata.org/pandas-docs/stable/user_guide/indexing.html#returning-a-view-versus-a-copy\n",
      "  combined_df[col] = le.fit_transform(combined_df[col])\n",
      "C:\\Users\\CAMNG3\\AppData\\Local\\Temp\\ipykernel_14492\\1339366489.py:15: SettingWithCopyWarning: \n",
      "A value is trying to be set on a copy of a slice from a DataFrame.\n",
      "Try using .loc[row_indexer,col_indexer] = value instead\n",
      "\n",
      "See the caveats in the documentation: https://pandas.pydata.org/pandas-docs/stable/user_guide/indexing.html#returning-a-view-versus-a-copy\n",
      "  combined_df[col] = le.fit_transform(combined_df[col])\n",
      "C:\\Users\\CAMNG3\\AppData\\Local\\Temp\\ipykernel_14492\\1339366489.py:15: SettingWithCopyWarning: \n",
      "A value is trying to be set on a copy of a slice from a DataFrame.\n",
      "Try using .loc[row_indexer,col_indexer] = value instead\n",
      "\n",
      "See the caveats in the documentation: https://pandas.pydata.org/pandas-docs/stable/user_guide/indexing.html#returning-a-view-versus-a-copy\n",
      "  combined_df[col] = le.fit_transform(combined_df[col])\n"
     ]
    }
   ],
   "source": [
    "# Handle categorical to integer transformation for 'Gender'\n",
    "gender_mapping = {\"F\": 0, \"M\": 1}\n",
    "df_train[\"Gender\"] = df_train[\"Gender\"].map(gender_mapping)\n",
    "\n",
    "# Columns to encode\n",
    "cols = [\"Age\", \"City_Category\", \"Stay_In_Current_City_Years\"]\n",
    "\n",
    "combined_df = df_train[cols]\n",
    "\n",
    "# Initialize the LabelEncoder\n",
    "le = LabelEncoder()\n",
    "\n",
    "# Apply LabelEncoder to each column and transform back to DataFrame\n",
    "for col in cols:\n",
    "    combined_df[col] = le.fit_transform(combined_df[col])\n",
    "\n",
    "# Split the combined data back into train and test sets\n",
    "df_train[cols] = combined_df\n",
    "df_train[\"Purchase\"] = np.log1p(df_train[\"Purchase\"])\n"
   ]
  },
  {
   "cell_type": "code",
   "execution_count": 6,
   "metadata": {},
   "outputs": [
    {
     "data": {
      "text/plain": [
       "Index(['Gender', 'Age', 'Occupation', 'City_Category',\n",
       "       'Stay_In_Current_City_Years', 'Marital_Status', 'Product_Category_1',\n",
       "       'Product_Category_2', 'Purchase'],\n",
       "      dtype='object')"
      ]
     },
     "execution_count": 6,
     "metadata": {},
     "output_type": "execute_result"
    }
   ],
   "source": [
    "df_train.columns"
   ]
  },
  {
   "cell_type": "markdown",
   "metadata": {},
   "source": [
    "# With a without demog"
   ]
  },
  {
   "cell_type": "code",
   "execution_count": 7,
   "metadata": {},
   "outputs": [],
   "source": [
    "df_train_with_demog = df_train \n",
    "df_train_without_demog = df_train[['City_Category','Stay_In_Current_City_Years', 'Product_Category_1','Product_Category_2', 'Purchase']]\n"
   ]
  },
  {
   "cell_type": "code",
   "execution_count": 55,
   "metadata": {},
   "outputs": [],
   "source": [
    "dfs = [df_train_with_demog,df_train_without_demog]"
   ]
  },
  {
   "cell_type": "code",
   "execution_count": 8,
   "metadata": {},
   "outputs": [
    {
     "data": {
      "text/plain": [
       "Gender\n",
       "1    414259\n",
       "0    135809\n",
       "Name: count, dtype: int64"
      ]
     },
     "execution_count": 8,
     "metadata": {},
     "output_type": "execute_result"
    }
   ],
   "source": [
    "df_train_with_demog[\"Gender\"].value_counts()"
   ]
  },
  {
   "cell_type": "code",
   "execution_count": 9,
   "metadata": {},
   "outputs": [
    {
     "data": {
      "text/plain": [
       "Age\n",
       "2    219587\n",
       "3    110013\n",
       "1     99660\n",
       "4     45701\n",
       "5     38501\n",
       "6     21504\n",
       "0     15102\n",
       "Name: count, dtype: int64"
      ]
     },
     "execution_count": 9,
     "metadata": {},
     "output_type": "execute_result"
    }
   ],
   "source": [
    "df_train_with_demog[\"Age\"].value_counts()"
   ]
  },
  {
   "cell_type": "code",
   "execution_count": 10,
   "metadata": {},
   "outputs": [
    {
     "data": {
      "text/plain": [
       "Marital_Status\n",
       "0    324731\n",
       "1    225337\n",
       "Name: count, dtype: int64"
      ]
     },
     "execution_count": 10,
     "metadata": {},
     "output_type": "execute_result"
    }
   ],
   "source": [
    "df_train_with_demog[\"Marital_Status\"].value_counts()"
   ]
  },
  {
   "cell_type": "code",
   "execution_count": 11,
   "metadata": {},
   "outputs": [
    {
     "data": {
      "text/plain": [
       "Occupation\n",
       "4     72308\n",
       "0     69638\n",
       "7     59133\n",
       "1     47426\n",
       "17    40043\n",
       "20    33562\n",
       "12    31179\n",
       "14    27309\n",
       "2     26588\n",
       "16    25371\n",
       "6     20355\n",
       "3     17650\n",
       "10    12930\n",
       "5     12177\n",
       "15    12165\n",
       "11    11586\n",
       "19     8461\n",
       "13     7728\n",
       "18     6622\n",
       "9      6291\n",
       "8      1546\n",
       "Name: count, dtype: int64"
      ]
     },
     "execution_count": 11,
     "metadata": {},
     "output_type": "execute_result"
    }
   ],
   "source": [
    "df_train_with_demog[\"Occupation\"].value_counts()"
   ]
  },
  {
   "cell_type": "markdown",
   "metadata": {},
   "source": [
    "# Training"
   ]
  },
  {
   "cell_type": "code",
   "execution_count": 56,
   "metadata": {},
   "outputs": [
    {
     "name": "stdout",
     "output_type": "stream",
     "text": [
      "Analyzing the dataset, including demographic information\n",
      "Index(['Gender', 'Age', 'Occupation', 'City_Category',\n",
      "       'Stay_In_Current_City_Years', 'Marital_Status', 'Product_Category_1',\n",
      "       'Product_Category_2', 'Purchase'],\n",
      "      dtype='object')\n"
     ]
    },
    {
     "name": "stderr",
     "output_type": "stream",
     "text": [
      "c:\\Users\\CAMNG3\\Desktop\\gcp-ml-specialisation-demo2\\env\\Lib\\site-packages\\sklearn\\ensemble\\_forest.py:615: UserWarning: Some inputs do not have OOB scores. This probably means too few trees were used to compute any reliable OOB estimates.\n",
      "  warn(\n"
     ]
    },
    {
     "name": "stdout",
     "output_type": "stream",
     "text": [
      "Mean Absolute Error: 0.28085443420246403\n",
      "R2 Score:  0.7418593983646372\n",
      "Root Mean Squared Error: 0.37474516852213763\n",
      "Mean Squared Error: 0.14043394133068532\n",
      "--------------------------------------------------------------\n",
      "Analyzing the dataset, excluding demographic information\n",
      "Index(['City_Category', 'Stay_In_Current_City_Years', 'Product_Category_1',\n",
      "       'Product_Category_2', 'Purchase'],\n",
      "      dtype='object')\n",
      "Mean Absolute Error: 0.285126732821897\n",
      "R2 Score:  0.7357490703607114\n",
      "Root Mean Squared Error: 0.3791544393316921\n",
      "Mean Squared Error: 0.14375808886492975\n",
      "--------------------------------------------------------------\n"
     ]
    },
    {
     "name": "stderr",
     "output_type": "stream",
     "text": [
      "c:\\Users\\CAMNG3\\Desktop\\gcp-ml-specialisation-demo2\\env\\Lib\\site-packages\\sklearn\\ensemble\\_forest.py:615: UserWarning: Some inputs do not have OOB scores. This probably means too few trees were used to compute any reliable OOB estimates.\n",
      "  warn(\n"
     ]
    }
   ],
   "source": [
    "for idx,df in enumerate(dfs):\n",
    "\n",
    "    if idx == 0:\n",
    "        print(\"Analyzing the dataset, including demographic information\")\n",
    "        print(df.columns)\n",
    "    else:\n",
    "        print(\"Analyzing the dataset, excluding demographic information\")\n",
    "        print(df.columns)\n",
    "\n",
    "    df_train, df_test = train_test_split(\n",
    "        df, \n",
    "        test_size=.2, \n",
    "        random_state=42\n",
    "    )\n",
    "\n",
    "    x_train = df_train.drop(\"Purchase\", axis=1)\n",
    "    y_train = np.array(df_train[\"Purchase\"])\n",
    "\n",
    "    x_test = df_test.drop(\"Purchase\", axis=1)\n",
    "    y_test = np.array(df_test[\"Purchase\"])\n",
    "\n",
    "    regressor = RandomForestRegressor(\n",
    "        max_depth=13, \n",
    "        n_estimators=10, \n",
    "        oob_score=True,\n",
    "        random_state=42\n",
    "    )\n",
    "\n",
    "    regressor.fit(x_train, y_train)\n",
    "\n",
    "    xgb_y_pred = regressor.predict(x_test)\n",
    "\n",
    "    mae = mean_absolute_error(y_test, xgb_y_pred)\n",
    "    mse = mean_squared_error(y_test, xgb_y_pred)\n",
    "    r2 = r2_score(y_test, xgb_y_pred)\n",
    "    rmse = sqrt(mean_squared_error(y_test, xgb_y_pred))\n",
    "\n",
    "    print(f\"Mean Absolute Error: {mae}\")\n",
    "    print(f\"R2 Score:  {r2}\")\n",
    "    print(f\"Root Mean Squared Error: {rmse}\")\n",
    "    print(f\"Mean Squared Error: {mse}\")\n",
    "\n",
    "    print(\"--------------------------------------------------------------\")\n"
   ]
  },
  {
   "cell_type": "code",
   "execution_count": null,
   "metadata": {},
   "outputs": [],
   "source": []
  }
 ],
 "metadata": {
  "kernelspec": {
   "display_name": "env",
   "language": "python",
   "name": "python3"
  },
  "language_info": {
   "codemirror_mode": {
    "name": "ipython",
    "version": 3
   },
   "file_extension": ".py",
   "mimetype": "text/x-python",
   "name": "python",
   "nbconvert_exporter": "python",
   "pygments_lexer": "ipython3",
   "version": "3.11.9"
  }
 },
 "nbformat": 4,
 "nbformat_minor": 2
}
